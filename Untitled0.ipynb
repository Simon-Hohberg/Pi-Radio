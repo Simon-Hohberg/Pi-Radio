{
 "metadata": {
  "name": "",
  "signature": "sha256:13fe1fef0b79aace3171c76a9d625c189d342f6b4d144081c7c742e1a055e40a"
 },
 "nbformat": 3,
 "nbformat_minor": 0,
 "worksheets": [
  {
   "cells": [
    {
     "cell_type": "code",
     "collapsed": false,
     "input": [],
     "language": "python",
     "metadata": {},
     "outputs": []
    },
    {
     "cell_type": "code",
     "collapsed": false,
     "input": [
      "from wifi import Cell\n",
      "str(Cell.all('wlan0')[0].quality)"
     ],
     "language": "python",
     "metadata": {},
     "outputs": [
      {
       "metadata": {},
       "output_type": "pyout",
       "prompt_number": 6,
       "text": [
        "'66/70'"
       ]
      }
     ],
     "prompt_number": 6
    }
   ],
   "metadata": {}
  }
 ]
}